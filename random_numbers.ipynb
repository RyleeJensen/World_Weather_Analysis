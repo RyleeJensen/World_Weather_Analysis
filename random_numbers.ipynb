{
 "cells": [
  {
   "cell_type": "code",
   "execution_count": 16,
   "id": "196a5ff6",
   "metadata": {},
   "outputs": [],
   "source": [
    "# Import the random module.\n",
    "import random\n",
    "\n",
    "# Import the NumPy module.\n",
    "import numpy as np\n",
    "\n",
    "# Import timeit.\n",
    "import timeit"
   ]
  },
  {
   "cell_type": "code",
   "execution_count": 17,
   "id": "1fc59e8f",
   "metadata": {},
   "outputs": [
    {
     "data": {
      "text/plain": [
       "43"
      ]
     },
     "execution_count": 17,
     "metadata": {},
     "output_type": "execute_result"
    }
   ],
   "source": [
    "random.randint(-90, 90)"
   ]
  },
  {
   "cell_type": "code",
   "execution_count": 18,
   "id": "f2b9e50e",
   "metadata": {},
   "outputs": [
    {
     "data": {
      "text/plain": [
       "0.0531062220202394"
      ]
     },
     "execution_count": 18,
     "metadata": {},
     "output_type": "execute_result"
    }
   ],
   "source": [
    "random.random()"
   ]
  },
  {
   "cell_type": "code",
   "execution_count": 19,
   "id": "188030a7",
   "metadata": {},
   "outputs": [
    {
     "data": {
      "text/plain": [
       "71.05732002836254"
      ]
     },
     "execution_count": 19,
     "metadata": {},
     "output_type": "execute_result"
    }
   ],
   "source": [
    "random_number = random.randint(-90, 89) + random.random()\n",
    "random_number"
   ]
  },
  {
   "cell_type": "code",
   "execution_count": 20,
   "id": "f79c2363",
   "metadata": {},
   "outputs": [
    {
     "data": {
      "text/plain": [
       "[-87.59624029851523,\n",
       " 15.242148409520022,\n",
       " -52.337815437695845,\n",
       " 2.147828998732506,\n",
       " -72.28720788486825,\n",
       " 10.920900890862821,\n",
       " 20.864304566896656,\n",
       " -25.99365924110517,\n",
       " 65.61488918601854,\n",
       " -68.46642048006284]"
      ]
     },
     "execution_count": 20,
     "metadata": {},
     "output_type": "execute_result"
    }
   ],
   "source": [
    "x = 1\n",
    "latitudes = []\n",
    "while x < 11:\n",
    "    random_lat = random.randint(-90, 89) + random.random()\n",
    "    latitudes.append(random_lat)\n",
    "    x += 1\n",
    "\n",
    "latitudes"
   ]
  },
  {
   "cell_type": "code",
   "execution_count": 21,
   "id": "cdc686af",
   "metadata": {
    "scrolled": true
   },
   "outputs": [
    {
     "data": {
      "text/plain": [
       "2"
      ]
     },
     "execution_count": 21,
     "metadata": {},
     "output_type": "execute_result"
    }
   ],
   "source": [
    "random.randrange(-90, 90, step=1)"
   ]
  },
  {
   "cell_type": "code",
   "execution_count": 22,
   "id": "3865c09e",
   "metadata": {},
   "outputs": [
    {
     "data": {
      "text/plain": [
       "78"
      ]
     },
     "execution_count": 22,
     "metadata": {},
     "output_type": "execute_result"
    }
   ],
   "source": [
    "random.randrange(-90, 90, step=3)"
   ]
  },
  {
   "cell_type": "code",
   "execution_count": 23,
   "id": "1306c98e",
   "metadata": {},
   "outputs": [
    {
     "data": {
      "text/plain": [
       "-51.929403328862975"
      ]
     },
     "execution_count": 23,
     "metadata": {},
     "output_type": "execute_result"
    }
   ],
   "source": [
    "random.uniform(-90, 90)"
   ]
  },
  {
   "cell_type": "code",
   "execution_count": 24,
   "id": "88f322df",
   "metadata": {},
   "outputs": [
    {
     "data": {
      "text/plain": [
       "-69.9166943661616"
      ]
     },
     "execution_count": 24,
     "metadata": {},
     "output_type": "execute_result"
    }
   ],
   "source": [
    "np.random.uniform(-90.000, 90.000)"
   ]
  },
  {
   "cell_type": "code",
   "execution_count": 25,
   "id": "c9affce2",
   "metadata": {},
   "outputs": [
    {
     "data": {
      "text/plain": [
       "array([ 80.21061525,  44.91584352,  16.2551849 , -20.47512083,\n",
       "        -9.5258774 , -30.01731953,  82.86354926,  85.43808437,\n",
       "       -70.07192028,  54.57442485, -49.38232136,  30.81525234,\n",
       "        77.04178821,  85.38879321, -35.65952968, -32.19804763,\n",
       "        31.39222647,  48.55435036,  14.55843299, -80.88528209,\n",
       "       -47.01958789,  43.15473618, -44.03259481, -34.81013796,\n",
       "       -64.43650289, -32.41854944,   6.02202838,  18.82332839,\n",
       "        13.20584556, -56.95735185, -43.63365668,  65.08363823,\n",
       "        14.33500248, -85.45155061, -17.31387126, -86.51364738,\n",
       "        54.58243725,  80.32637911, -35.6627579 , -72.02002223,\n",
       "        42.17625145, -46.59614317,  70.4633564 ,  36.38228876,\n",
       "        57.86731895,   9.44563019, -17.93597885,  44.08948475,\n",
       "        61.57500223,  62.42342983])"
      ]
     },
     "execution_count": 25,
     "metadata": {},
     "output_type": "execute_result"
    }
   ],
   "source": [
    "np.random.uniform(-90.000, 90.000, size=50)"
   ]
  },
  {
   "cell_type": "code",
   "execution_count": 26,
   "id": "615fef12",
   "metadata": {},
   "outputs": [
    {
     "name": "stdout",
     "output_type": "stream",
     "text": [
      "17.9 µs ± 652 ns per loop (mean ± std. dev. of 7 runs, 100000 loops each)\n"
     ]
    }
   ],
   "source": [
    "%timeit np.random.uniform(-90.000, 90.000, size=1500)"
   ]
  },
  {
   "cell_type": "code",
   "execution_count": 27,
   "id": "67b5b73f",
   "metadata": {},
   "outputs": [
    {
     "name": "stdout",
     "output_type": "stream",
     "text": [
      "2.63 ms ± 58.2 µs per loop (mean ± std. dev. of 7 runs, 100 loops each)\n"
     ]
    }
   ],
   "source": [
    "def latitudes(size):\n",
    "    latitudes = []\n",
    "    x = 0\n",
    "    while x < (size):\n",
    "        random_lat = random.randint(-90, 90) + random.random()\n",
    "        latitudes.append(random_lat)\n",
    "        x += 1\n",
    "    return latitudes\n",
    "# Call the function with 1500.\n",
    "%timeit latitudes(1500)"
   ]
  },
  {
   "cell_type": "code",
   "execution_count": null,
   "id": "bb5c4068",
   "metadata": {},
   "outputs": [],
   "source": []
  }
 ],
 "metadata": {
  "kernelspec": {
   "display_name": "PythonData",
   "language": "python",
   "name": "pythondata"
  },
  "language_info": {
   "codemirror_mode": {
    "name": "ipython",
    "version": 3
   },
   "file_extension": ".py",
   "mimetype": "text/x-python",
   "name": "python",
   "nbconvert_exporter": "python",
   "pygments_lexer": "ipython3",
   "version": "3.7.10"
  }
 },
 "nbformat": 4,
 "nbformat_minor": 5
}
